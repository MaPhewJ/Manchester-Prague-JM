{
 "cells": [
  {
   "cell_type": "code",
   "execution_count": null,
   "metadata": {},
   "outputs": [],
   "source": [
    "import numpy as np\n",
    "import matplotlib.pyplot as plt\n",
    "import imageio as io\n",
    "from skimage import data, img_as_float\n",
    "from skimage.io import imread_collection\n",
    "from skimage.restoration import denoise_nl_means, estimate_sigma\n",
    "from skimage.util import crop\n",
    "from skimage.morphology import binary_erosion, binary_dilation, cube\n",
    "from skimage import filters\n",
    "from skimage.filters import gaussian\n",
    "\n",
    "vol_0 = img_as_float(io.volread('E:/paper_2/Volumes_Bare/TiffSaver-tomo_B0X.tif'))\n",
    "sigma_est_B0X = np.mean((estimate_sigma(vol_0, multichannel=False)))\n",
    "for z in range(2110):\n",
    "    vol_0[z] = denoise_nl_means(vol_0[z], h=4*sigma_est_B0X, fast_mode=True, patch_size=9, patch_distance=5, multichannel=False)\n",
    "vol_0_nlm = vol_0 * 255    \n",
    "vol_0_gaussian = gaussian(vol_0_nlm, sigma=0.20, output=None, mode='nearest', cval=0, \n",
    "                          multichannel=False, preserve_range=True, truncate=4.0)\n",
    "for w in range(2110):\n",
    "    io.imwrite('E:/paper_2/Volumes_Bare/Registered_vols/TiffSaver-tomo_B0X/TiffSaver-tomo_B0X_%d.tif'%(w),\n",
    "               vol_0_gaussian[w].astype(np.uint8), format='tiff')"
   ]
  },
  {
   "cell_type": "code",
   "execution_count": 2,
   "metadata": {},
   "outputs": [],
   "source": [
    "import numpy as np\n",
    "import matplotlib.pyplot as plt\n",
    "import imageio as io\n",
    "from skimage import data, img_as_float\n",
    "from skimage.io import imread_collection\n",
    "from skimage.restoration import denoise_nl_means, estimate_sigma\n",
    "from skimage.util import crop\n",
    "from skimage.morphology import binary_erosion, binary_dilation, cube\n",
    "from skimage import filters\n",
    "from skimage.filters import gaussian\n",
    "\n",
    "#2d wise non local means & gaussian of whole 4d set\n",
    "for l in range(2, 17):\n",
    "    vol_0 = img_as_float(io.volread('E:/paper_2/Volumes_Bare/Registered_vols/TiffSaver-tomo_B%d_a.tif'%(l)))\n",
    "    sigma_est_a = np.mean(estimate_sigma(vol_0, multichannel=False))\n",
    "    for z in range(1055):\n",
    "        vol_0[z] = denoise_nl_means(vol_0[z], h=4*sigma_est_a, fast_mode=True, \n",
    "                                    patch_size=9, patch_distance=5, multichannel=False)\n",
    "    vol_0_nlm = vol_0 * 255\n",
    "    vol_0_gaussian = gaussian(vol_0_nlm, sigma=0.20, output=None, mode='nearest', cval=0,\n",
    "                                  multichannel=False, preserve_range=True, truncate=4.0)\n",
    "    io.volwrite('E:/paper_2/Volumes_Bare/Registered_vols/TiffSaver-tomo_B%d_a.tif'%(l), \n",
    "                vol_0_gaussian.astype(np.uint8), format='tiff')\n",
    "\n",
    "for l in range(1, 17):\n",
    "    vol_0 = img_as_float(io.volread('E:/paper_2/Volumes_Bare/Registered_vols/TiffSaver-tomo_B%d_b.tif'%(l)))\n",
    "    sigma_est_b = np.mean(estimate_sigma(vol_0, multichannel=False))\n",
    "    for z in range(1055):\n",
    "        vol_0[z] = denoise_nl_means(vol_0[z], h=4*sigma_est_b, fast_mode=True, \n",
    "                                    patch_size=9, patch_distance=5, multichannel=False)\n",
    "    vol_0_nlm = vol_0 * 255\n",
    "    vol_0_gaussian = gaussian(vol_0_nlm, sigma=0.20, output=None, mode='nearest', cval=0,\n",
    "                                  multichannel=False, preserve_range=True, truncate=4.0)\n",
    "    io.volwrite('E:/paper_2/Volumes_Bare/Registered_vols/TiffSaver-tomo_B%d_b.tif'%(l), \n",
    "                vol_0_gaussian.astype(np.uint8), format='tiff')"
   ]
  },
  {
   "cell_type": "code",
   "execution_count": null,
   "metadata": {},
   "outputs": [],
   "source": []
  }
 ],
 "metadata": {
  "kernelspec": {
   "display_name": "Python 3",
   "language": "python",
   "name": "python3"
  },
  "language_info": {
   "codemirror_mode": {
    "name": "ipython",
    "version": 3
   },
   "file_extension": ".py",
   "mimetype": "text/x-python",
   "name": "python",
   "nbconvert_exporter": "python",
   "pygments_lexer": "ipython3",
   "version": "3.8.5"
  }
 },
 "nbformat": 4,
 "nbformat_minor": 4
}
