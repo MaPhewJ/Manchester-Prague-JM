{
 "cells": [
  {
   "cell_type": "code",
   "execution_count": 1,
   "metadata": {},
   "outputs": [],
   "source": [
    "#we will now register sebsequent volumes in the time series onto the binary volume from part 2\n",
    "#it is critical the registration is good as filter pixels not effectively masked due to inaccuracy will be segmented as deposit\n",
    "\n",
    "from PIL import Image, ImageChops\n",
    "import math\n",
    "import numpy as np\n",
    "import imageio as io\n",
    "from skimage import img_as_float\n",
    "from skimage.metrics import mean_squared_error as mse\n",
    "from skimage.util import crop\n",
    "\n",
    "#first we need to make some 'registration volumes' from the full volume so that sitk can read vol w/o mem err\n",
    "#for s in range(1, 17):\n",
    "    #load = io.volread('E:/paper_2/Volumes_Bare/TiffSaver-tomo_B%d.tif'%(s))\n",
    "    #crop = load[102:498, 302:498, 1002:1098]\n",
    "    #io.volwrite('E:/paper_2/Volumes_Bare/Registration_vol_bare/TiffSaver-reg_B%d.tif'%(s), crop, format='tiff')\n",
    "\n",
    "#load = io.volread('E:/paper_2/Volumes_Bare/Mask_TiffSaver_1.tif')\n",
    "#crop = load[102:498, 302:498, 1002:1098]\n",
    "#io.volwrite('E:/paper_2/Volumes_Bare/Registration_vol_bare/TiffSaver-reg_mask.tif', crop, format='tiff')"
   ]
  },
  {
   "cell_type": "code",
   "execution_count": 2,
   "metadata": {},
   "outputs": [
    {
     "name": "stderr",
     "output_type": "stream",
     "text": [
      "<ipython-input-2-bb03323250d9>:8: DeprecationWarning: Numeric-style type codes are deprecated and will result in an error in the future.\n",
      "  im1 = io.volread('E:/paper_2/Volumes_Bare/Registration_vol_bare/TiffSaver-reg_mask.tif').astype('Float32')\n",
      "<ipython-input-2-bb03323250d9>:10: DeprecationWarning: Numeric-style type codes are deprecated and will result in an error in the future.\n",
      "  im2 = io.volread('E:/paper_2/Volumes_Bare/Registration_vol_bare/TiffSaver-reg_B%d.tif'%(x)).astype('Float32')\n"
     ]
    },
    {
     "name": "stdout",
     "output_type": "stream",
     "text": [
      "RMS of tomo 1 = 124.3000054136771\n",
      "RMS of tomo 2 = 124.36287870862925\n",
      "RMS of tomo 3 = 124.36316569710753\n",
      "RMS of tomo 4 = 125.35422286395418\n",
      "RMS of tomo 5 = 125.46255525177783\n",
      "RMS of tomo 6 = 124.30898144038275\n",
      "RMS of tomo 7 = 124.29651388270034\n",
      "RMS of tomo 8 = 124.25832458281415\n",
      "RMS of tomo 9 = 125.19493518458792\n",
      "RMS of tomo 10 = 125.1927978427793\n",
      "RMS of tomo 11 = 124.25489989259317\n",
      "RMS of tomo 12 = 125.35740394219201\n",
      "RMS of tomo 13 = 124.85847483656664\n",
      "RMS of tomo 14 = 125.03548027674529\n",
      "RMS of tomo 15 = 124.91118128772975\n",
      "RMS of tomo 16 = 124.18258937313463\n",
      "(394, 194, 94)\n"
     ]
    }
   ],
   "source": [
    "#function that calculates the root mean square error between im1 and im2\n",
    "def rmsdiff(im1, im2):\n",
    "    \"\"\"Calculates the root mean square error (RSME) between two images\"\"\"\n",
    "    return math.sqrt(mse(im1, im2))\n",
    "\n",
    "#Loads and crops im1 and im2 for rmsdiff function\n",
    "#loops im2 loader through t dimension in data series\n",
    "im1 = io.volread('E:/paper_2/Volumes_Bare/Registration_vol_bare/TiffSaver-reg_mask.tif').astype('Float32')\n",
    "for x in range(1, 17):\n",
    "    im2 = io.volread('E:/paper_2/Volumes_Bare/Registration_vol_bare/TiffSaver-reg_B%d.tif'%(x)).astype('Float32')\n",
    "    print(f\"RMS of tomo %d = {rmsdiff(im1[2:398, 2:198, 2:98], im2[2:398, 2:198, 2:98])}\"%(x))\n",
    "print(im1[2:398, 2:198, 2:98].shape)"
   ]
  },
  {
   "cell_type": "code",
   "execution_count": 3,
   "metadata": {},
   "outputs": [
    {
     "name": "stdout",
     "output_type": "stream",
     "text": [
      "(394, 194, 94)\n"
     ]
    },
    {
     "data": {
      "text/plain": [
       "<matplotlib.image.AxesImage at 0xa779340>"
      ]
     },
     "execution_count": 3,
     "metadata": {},
     "output_type": "execute_result"
    },
    {
     "data": {
      "image/png": "[encoded data removed]",
      "text/plain": [
       "<Figure size 432x288 with 1 Axes>"
      ]
     },
     "metadata": {
      "needs_background": "light"
     },
     "output_type": "display_data"
    }
   ],
   "source": [
    "#to check we have analysed correct shape/image region\n",
    "import matplotlib.pyplot as plt\n",
    "print(im1[2:398, 2:198, 2:98].shape)\n",
    "plt.imshow(im1[200, 2:198, 2:98], cmap = 'gray')"
   ]
  },
  {
   "cell_type": "code",
   "execution_count": 4,
   "metadata": {},
   "outputs": [
    {
     "name": "stdout",
     "output_type": "stream",
     "text": [
      "Point (1.0, 1.0, 1.0) transformed is (1.0, 1.0, 1.0)\n"
     ]
    }
   ],
   "source": [
    "#that'll do\n",
    "from __future__ import print_function\n",
    "import SimpleITK as sitk\n",
    "import numpy as np\n",
    "%matplotlib inline\n",
    "from matplotlib import pyplot as plt\n",
    "from ipywidgets import interact, fixed\n",
    "\n",
    "#the dimension of the image and the origin\n",
    "dimension = 3\n",
    "point = (1.0, 1.0, 1.0)\n",
    "#this function will print where the origin will be translated to \n",
    "def transform_point(transform, point):\n",
    "    transformed_point = transform.TransformPoint(point)\n",
    "    print('Point ' + str(point) + ' transformed is ' + str(transformed_point))\n",
    "#this function will visualises\n",
    "def myshow(img, title=None, margin=0.05, dpi=80):\n",
    "    nda = sitk.GetArrayViewFromImage(img)\n",
    "    spacing = img.GetSpacing()    \n",
    "    ysize = nda.shape[0]\n",
    "    xsize = nda.shape[1]  \n",
    "    figsize = (1 + margin) * ysize / dpi, (1 + margin) * xsize / dpi\n",
    "    fig = plt.figure(title, figsize=figsize, dpi=dpi)\n",
    "    ax = fig.add_axes([margin, margin, 1 - 2*margin, 1 - 2*margin])\n",
    "    extent = (0, xsize*spacing[1], 0, ysize*spacing[0])\n",
    "    t = ax.imshow(nda,\n",
    "            extent=extent,\n",
    "            interpolation='hamming',\n",
    "            cmap='gray',\n",
    "            origin='lower')\n",
    "    if(title):\n",
    "        plt.title(title)\n",
    "#this function executes the resampling\n",
    "def resample(image, transform):\n",
    "    # Output image Origin, Spacing, Size, Direction are taken from the reference\n",
    "    # image in this call to Resample\n",
    "    reference_image = image\n",
    "    interpolator = sitk.sitkNearestNeighbor\n",
    "    default_value = 0\n",
    "    return sitk.Resample(image, reference_image, transform,\n",
    "                         interpolator, default_value)\n",
    "moving_image = sitk.ReadImage(\"E:/paper_2/Volumes_Bare/Registration_vol_bare/TiffSaver-reg_B1.tif\", sitk.sitkFloat32)\n",
    "moving_image_cropped = moving_image[:, :, :] #2:398, 2:198, 2:98 but w/o +2 pad and x,y,z not z,y,x\n",
    "translation = sitk.TranslationTransform(dimension)\n",
    "translation.SetParameters((0.0, 0.0, 0.0))\n",
    "translation.SetOffset((0.0, 0.0, 0.0))\n",
    "transform_point(translation, point)\n",
    "resampled = resample(moving_image_cropped, translation)"
   ]
  },
  {
   "cell_type": "code",
   "execution_count": 5,
   "metadata": {},
   "outputs": [
    {
     "name": "stdout",
     "output_type": "stream",
     "text": [
      "Point (1.0, 1.0, 1.0) transformed is (1.0, 1.0, 1.0)\n"
     ]
    }
   ],
   "source": [
    "fixed_image = sitk.ReadImage(\"E:/paper_2/Volumes_Bare/Registration_vol_bare/TiffSaver-reg_mask.tif\", sitk.sitkFloat32)\n",
    "fixed_image_cropped = fixed_image[:, :, :]\n",
    "translation_0 = sitk.TranslationTransform(dimension)\n",
    "translation_0.SetParameters((0.0, 0.0, 0.0))\n",
    "translation_0.SetOffset((0.0, 0.0, 0.0))\n",
    "transform_point(translation_0, point)\n",
    "resampled_0 = resample(fixed_image_cropped, translation_0)"
   ]
  },
  {
   "cell_type": "code",
   "execution_count": 6,
   "metadata": {},
   "outputs": [
    {
     "name": "stdout",
     "output_type": "stream",
     "text": [
      "124.3000054136771\n"
     ]
    }
   ],
   "source": [
    "RMS0 = (sitk.GetArrayFromImage(resampled_0[2:98, 2:198, 2:398]))\n",
    "RMS1 = (sitk.GetArrayFromImage(resampled[2:98, 2:198, 2:398]))\n",
    "print(rmsdiff(RMS0, RMS1)) #this has to equal the value originally calculated up top or something is off"
   ]
  },
  {
   "cell_type": "code",
   "execution_count": 7,
   "metadata": {},
   "outputs": [
    {
     "name": "stdout",
     "output_type": "stream",
     "text": [
      "best transformation is: (0.0, 0.0, 0.0, 2.9000000000000004, -2.6, 1.7000000000000002)\n"
     ]
    }
   ],
   "source": [
    "initial_transform = sitk.CenteredTransformInitializer(fixed_image_cropped, \n",
    "                                                      moving_image_cropped, \n",
    "                                                      sitk.Euler3DTransform(), \n",
    "                                                      sitk.CenteredTransformInitializerFilter.GEOMETRY)\n",
    "registration_method = sitk.ImageRegistrationMethod()\n",
    "registration_method.SetMetricAsMeanSquares()\n",
    "registration_method.SetMetricSamplingStrategy(registration_method.RANDOM)\n",
    "registration_method.SetMetricSamplingPercentage(0.01)\n",
    "registration_method.SetInterpolator(sitk.sitkNearestNeighbor)  #This is the least computationally demanding interpolator \n",
    "registration_method.SetOptimizerAsExhaustive(numberOfSteps=[0,0,0,30,30,30], stepLength = 0.1) \n",
    "registration_method.SetOptimizerScales([1,1,1,1,1,1])\n",
    "\n",
    "#Perform the registration in-place so that the initial_transform is modified.\n",
    "registration_method.SetInitialTransform(initial_transform, inPlace=True)\n",
    "registration_method.Execute(fixed_image_cropped, moving_image_cropped)\n",
    "\n",
    "print('best transformation is: ' + str(initial_transform.GetParameters()))"
   ]
  },
  {
   "cell_type": "code",
   "execution_count": 8,
   "metadata": {},
   "outputs": [
    {
     "name": "stdout",
     "output_type": "stream",
     "text": [
      "Point (1.0, 1.0, 1.0) transformed is (1.1, -1.9000000000000004, -2.0)\n"
     ]
    },
    {
     "data": {
      "image/png": "[encoded data removed]",
      "text/plain": [
       "<Figure size 415.8x205.8 with 1 Axes>"
      ]
     },
     "metadata": {
      "needs_background": "light"
     },
     "output_type": "display_data"
    }
   ],
   "source": [
    "translation_test = sitk.TranslationTransform(dimension)\n",
    "translation_test.SetParameters((0.1, -2.9000000000000004, -3.0)) #put the best transform from above here!!!\n",
    "translation.SetOffset((0.1, -2.9000000000000004, -3.0)) ##put the best transform from above here!!!\n",
    "transform_point(translation_test, point)\n",
    "resampled_test = resample(moving_image_cropped, translation_test)\n",
    "myshow(resampled_test[0, :, :], 'Resampled Translation')"
   ]
  },
  {
   "cell_type": "code",
   "execution_count": 9,
   "metadata": {},
   "outputs": [
    {
     "name": "stdout",
     "output_type": "stream",
     "text": [
      "123.88926450255357\n"
     ]
    }
   ],
   "source": [
    "RMS0_test = (sitk.GetArrayFromImage(resampled_0[2:98, 2:198, 2:398])).astype('uint8')\n",
    "RMS1_test = (sitk.GetArrayFromImage(resampled_test[2:98, 2:198, 2:398])).astype('uint8')\n",
    "print(rmsdiff(RMS0_test, RMS1_test))"
   ]
  },
  {
   "cell_type": "code",
   "execution_count": 10,
   "metadata": {},
   "outputs": [
    {
     "name": "stdout",
     "output_type": "stream",
     "text": [
      "best transformation 1: (0.0, 0.0, 0.0, 2.0, -1.7000000000000002, 2.9000000000000004)\n",
      "best transformation 2: (0.0, 0.0, 0.0, 2.6, -0.9, -1.2000000000000002)\n",
      "best transformation 3: (0.0, 0.0, 0.0, 1.7000000000000002, -0.8, -2.9000000000000004)\n",
      "best transformation 4: (0.0, 0.0, 0.0, -0.5, 2.3000000000000003, -0.1)\n",
      "best transformation 5: (0.0, 0.0, 0.0, 1.4000000000000001, -1.5, 0.8)\n",
      "best transformation 6: (0.0, 0.0, 0.0, 3.0, -0.5, 2.0)\n",
      "best transformation 7: (0.0, 0.0, 0.0, 0.8, 1.6, -1.6)\n",
      "best transformation 8: (0.0, 0.0, 0.0, 1.7000000000000002, -2.5, 2.6)\n",
      "best transformation 9: (0.0, 0.0, 0.0, 2.6, 1.2000000000000002, 0.4)\n",
      "best transformation 10: (0.0, 0.0, 0.0, 0.4, 2.9000000000000004, -0.9)\n",
      "best transformation 11: (0.0, 0.0, 0.0, 0.30000000000000004, 1.5, -0.8)\n",
      "best transformation 12: (0.0, 0.0, 0.0, 0.6000000000000001, -2.5, 3.0)\n",
      "best transformation 13: (0.0, 0.0, 0.0, 2.5, 0.4, 3.0)\n",
      "best transformation 14: (0.0, 0.0, 0.0, 0.8, 2.4000000000000004, 1.7000000000000002)\n",
      "best transformation 15: (0.0, 0.0, 0.0, 2.1, 3.0, 1.3)\n",
      "best transformation 16: (0.0, 0.0, 0.0, 3.0, -0.7000000000000001, 1.1)\n"
     ]
    }
   ],
   "source": [
    "# we have shown that this method improves the registration of the subsequent grayscale images onto the binary\n",
    "# i.e because the RMSE is less after the translation\n",
    "# now we loop the volumes through the above code in order to apply to the whole set\n",
    "for x in range(1, 17):\n",
    "    initial_transform = sitk.CenteredTransformInitializer(fixed_image_cropped, \n",
    "                                                      moving_image_cropped, \n",
    "                                                      sitk.Euler3DTransform(), \n",
    "                                                      sitk.CenteredTransformInitializerFilter.GEOMETRY)\n",
    "    registration_method = sitk.ImageRegistrationMethod()\n",
    "    registration_method.SetMetricAsMeanSquares()\n",
    "    registration_method.SetMetricSamplingStrategy(registration_method.RANDOM)\n",
    "    registration_method.SetMetricSamplingPercentage(0.01)\n",
    "    registration_method.SetInterpolator(sitk.sitkNearestNeighbor)  #This is the least computationally demanding interpolator \n",
    "    registration_method.SetOptimizerAsExhaustive(numberOfSteps=[0,0,0,30,30,30], stepLength = 0.1) \n",
    "    registration_method.SetOptimizerScales([1,1,1,1,1,1])\n",
    "    moving_image = sitk.ReadImage(\"E:/paper_2/Volumes_Bare/Registration_vol_bare/TiffSaver-reg_B%d.tif\"%(x), sitk.sitkFloat32)\n",
    "    moving_image_cropped = moving_image[:, :, :]\n",
    "    registration_method.SetInitialTransform(initial_transform, inPlace=True)\n",
    "    registration_method.Execute(fixed_image_cropped, moving_image_cropped)\n",
    "    print('best transformation %d: '%(x) + str(initial_transform.GetParameters()))"
   ]
  },
  {
   "cell_type": "code",
   "execution_count": 7,
   "metadata": {},
   "outputs": [],
   "source": [
    "#Ok! Let's now apply the translations to the data set\n",
    "\n",
    "from __future__ import print_function\n",
    "import SimpleITK as sitk\n",
    "import numpy as np\n",
    "%matplotlib inline\n",
    "from matplotlib import pyplot as plt\n",
    "from ipywidgets import interact, fixed\n",
    "\n",
    "dimension = 3\n",
    "def resample(image, transform):\n",
    "    # Output image Origin, Spacing, Size, Direction are taken from the reference\n",
    "    # image in this call to Resample\n",
    "    reference_image = image\n",
    "    interpolator = sitk.sitkNearestNeighbor\n",
    "    default_value = 0\n",
    "    return sitk.Resample(image, reference_image, transform,\n",
    "                         interpolator, default_value)\n",
    "\n",
    "#had to crop and save some smaller volumes to stop mem errors\n",
    "#import imageio as io\n",
    "#for x in range(1, 17):\n",
    "    #imga = io.volread('E:/paper_2/Volumes_Bare/TiffSaver-tomo_B%d.tif'%(x))[:1055, :, :]\n",
    "    #imgb = io.volread('E:/paper_2/Volumes_Bare/TiffSaver-tomo_B%d.tif'%(x))[1055:, :, :]\n",
    "    #io.volwrite('E:/paper_2/Volumes_Bare/TiffSaver-tomo_B%d_a.tif', imga, format='tiff')\n",
    "    #io.volwrite('E:/paper_2/Volumes_Bare/TiffSaver-tomo_B%d_b.tif', imgb, format='tiff')\n",
    "\n",
    "#make lists\n",
    "#these params where calculated above from the registration process but with the inital transform added into the params\n",
    "#this initial transform is from the cropping process and not the initial tranform from the reg above\n",
    "\n",
    "param_1 = (2.0, -1.7000000000000002, 2.9000000000000004)\n",
    "param_2 = (2.6, -0.9, -1.2000000000000002)\n",
    "param_3 = (1.7000000000000002, -0.8, -2.9000000000000004)\n",
    "param_4 = (-0.5, 2.3000000000000003, -0.1)\n",
    "param_5 = (1.4000000000000001, -1.5, 0.8)\n",
    "param_6 = (3.0, -0.5, 2.0)\n",
    "param_7 = (0.8, 1.6, -1.6)\n",
    "param_8 = (1.7000000000000002, -2.5, 2.6)\n",
    "param_9 = (2.6, 1.2000000000000002, 0.4)\n",
    "param_10 = (0.4, 2.9000000000000004, -0.9)\n",
    "param_11 = (0.30000000000000004, 1.5, -0.8)\n",
    "param_12 = (0.6000000000000001, -2.5, 3.0)\n",
    "param_13 = (2.5, 0.4, 3.0)\n",
    "param_14 = (0.8, 2.4000000000000004, 1.7000000000000002)\n",
    "param_15 = (2.1, 3.0, 1.3)\n",
    "param_16 = (3.0, -0.7000000000000001, 1.1)\n",
    "\n",
    "parameters = [param_1, param_2, param_3, param_4, param_5, param_6, param_7, param_8,\n",
    "              param_9, param_10, param_11, param_12, param_13, param_14, param_15, param_16]\n",
    "resampled_list = ['r_1', 'r_2', 'r_3', 'r_4', 'r_5', 'r_6', 'r_7', 'r_8', 'r_9', 'r_10', 'r_11', 'r_12',\n",
    "                  'r_13', 'r_14', 'r_15', 'r_16']\n",
    "\n",
    "for x in range(9, 16):\n",
    "    image = sitk.ReadImage(\"E:/paper_2/Volumes_Bare/TiffSaver-tomo_B%d_b.tif\"%(x+1), sitk.sitkFloat32)\n",
    "    translation = sitk.TranslationTransform(dimension)\n",
    "    translation.SetParameters(parameters[x])\n",
    "    translation.SetOffset(parameters[x])\n",
    "    resampled_list[x] = resample(image, translation)"
   ]
  },
  {
   "cell_type": "code",
   "execution_count": 8,
   "metadata": {},
   "outputs": [],
   "source": [
    "import imageio as io\n",
    "#now save these for future segmentation\n",
    "for z in range(9, 16):\n",
    "    io.volsave('E:/paper_2/Volumes_Bare/Registered_vols/TiffSaver-tomo_B%d_b.tif'%(z+1), \n",
    "               sitk.GetArrayFromImage(resampled_list[z]).astype(np.uint8), format='tiff')"
   ]
  },
  {
   "cell_type": "code",
   "execution_count": null,
   "metadata": {},
   "outputs": [],
   "source": []
  }
 ],
 "metadata": {
  "kernelspec": {
   "display_name": "Python 3",
   "language": "python",
   "name": "python3"
  },
  "language_info": {
   "codemirror_mode": {
    "name": "ipython",
    "version": 3
   },
   "file_extension": ".py",
   "mimetype": "text/x-python",
   "name": "python",
   "nbconvert_exporter": "python",
   "pygments_lexer": "ipython3",
   "version": "3.8.5"
  }
 },
 "nbformat": 4,
 "nbformat_minor": 4
}
