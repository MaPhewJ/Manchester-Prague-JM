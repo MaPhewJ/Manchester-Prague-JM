{
 "cells": [
  {
   "cell_type": "code",
   "execution_count": 2,
   "metadata": {},
   "outputs": [],
   "source": [
    "import imageio as io\n",
    "import numpy as np\n",
    "from skimage.morphology import binary_erosion, binary_dilation, cube\n",
    "\n",
    "#we are going to apply a global TiO2 deposit threshold across\n",
    "#the entire 4D data set and create segmented labelled volumes\n",
    "filter_seg_a = io.volread('E:/paper_2/Volumes_Bare/Mask_TiffSaver_a.tif')\n",
    "filter_seg_b = io.volread('E:/paper_2/Volumes_Bare/Mask_TiffSaver_b.tif')\n",
    "channel_mask_a = io.volread('E:/paper_2/Volumes_Bare/Channel_Mask_TiffSaver.tif')[:1055, :, :]\n",
    "channel_mask_b = io.volread('E:/paper_2/Volumes_Bare/Channel_Mask_TiffSaver.tif')[1055:, :, :]\n",
    "thresh = 119\n",
    "\n",
    "for x in range(1, 17):\n",
    "    vol = io.volread('E:/paper_2/Volumes_Bare/Registered_vols/TiffSaver-tomo_B%d_a.tif'%(x))\n",
    "    vol_TiO2_bed = (vol * (1 - filter_seg_a)) * channel_mask_a > thresh\n",
    "    vol_TiO2_cake = (vol * (1 - filter_seg_a)) * (1 - channel_mask_a) > thresh\n",
    "    vol_TiO2_cake = binary_erosion(vol_TiO2_cake, cube(3))\n",
    "    vol_TiO2_cake = binary_dilation(vol_TiO2_cake, cube(3))\n",
    "    vol_TiO2 = vol_TiO2_cake + vol_TiO2_bed\n",
    "    io.volwrite('E:/paper_2/Volumes_Bare/TiO2_vols/TiO2_vol_%da.tif'%(x), vol_TiO2.astype(np.uint8), format='tiff')\n",
    "    segmented = filter_seg_a + (2 * vol_TiO2) # background = 0, filter = 1, TiO2 = 2\n",
    "    io.volwrite('E:/paper_2/Volumes_Bare/Segmented_vols/Segmented_vol_%da.tif'%(x), segmented.astype(np.uint8), format='tiff')\n",
    "\n",
    "for x in range(1, 17):\n",
    "    vol = io.volread('E:/paper_2/Volumes_Bare/Registered_vols/TiffSaver-tomo_B%d_b.tif'%(x))\n",
    "    vol_TiO2_bed = (vol * (1 - filter_seg_b)) * channel_mask_b > thresh\n",
    "    vol_TiO2_cake = (vol * (1 - filter_seg_b)) * (1 - channel_mask_b) > thresh\n",
    "    vol_TiO2_cake = binary_erosion(vol_TiO2_cake, cube(3))\n",
    "    vol_TiO2_cake = binary_dilation(vol_TiO2_cake, cube(3))\n",
    "    vol_TiO2 = vol_TiO2_cake + vol_TiO2_bed\n",
    "    io.volwrite('E:/paper_2/Volumes_Bare/TiO2_vols/TiO2_vol_%db.tif'%(x), vol_TiO2.astype(np.uint8), format='tiff')\n",
    "    segmented = filter_seg_b + (2 * vol_TiO2) # background = 0, filter = 1, TiO2 = 2\n",
    "    io.volwrite('E:/paper_2/Volumes_Bare/Segmented_vols/Segmented_vol_%db.tif'%(x), segmented.astype(np.uint8), format='tiff')"
   ]
  },
  {
   "cell_type": "code",
   "execution_count": 1,
   "metadata": {},
   "outputs": [],
   "source": [
    "import imageio as io\n",
    "import numpy as np\n",
    "\n",
    "for x in range(1, 17):\n",
    "    vol = io.volread('E:/paper_2/Volumes_Bare/Registered_vols/TiffSaver-tomo_B%d_a.tif'%(x))\n",
    "    vol_TiO2 = io.volread('E:/paper_2/Volumes_Bare/TiO2_vols/TiO2_vol_%da.tif'%(x))\n",
    "    TiO2_gray_vol = (vol * vol_TiO2)\n",
    "    io.volwrite('E:/paper_2/Volumes_Bare/TiO2_vols/TiO2_vol_gray_%da.tif'%(x), TiO2_gray_vol.astype(np.uint8), format='tiff')\n",
    "    \n",
    "for x in range(1, 17):\n",
    "    vol = io.volread('E:/paper_2/Volumes_Bare/Registered_vols/TiffSaver-tomo_B%d_b.tif'%(x))\n",
    "    vol_TiO2 = io.volread('E:/paper_2/Volumes_Bare/TiO2_vols/TiO2_vol_%db.tif'%(x))\n",
    "    TiO2_gray_vol = (vol * vol_TiO2)\n",
    "    io.volwrite('E:/paper_2/Volumes_Bare/TiO2_vols/TiO2_vol_gray_%db.tif'%(x), TiO2_gray_vol.astype(np.uint8), format='tiff')"
   ]
  },
  {
   "cell_type": "code",
   "execution_count": null,
   "metadata": {},
   "outputs": [],
   "source": []
  }
 ],
 "metadata": {
  "kernelspec": {
   "display_name": "Python 3",
   "language": "python",
   "name": "python3"
  },
  "language_info": {
   "codemirror_mode": {
    "name": "ipython",
    "version": 3
   },
   "file_extension": ".py",
   "mimetype": "text/x-python",
   "name": "python",
   "nbconvert_exporter": "python",
   "pygments_lexer": "ipython3",
   "version": "3.8.5"
  }
 },
 "nbformat": 4,
 "nbformat_minor": 4
}
