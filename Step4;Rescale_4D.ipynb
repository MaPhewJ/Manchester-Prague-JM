{
 "cells": [
  {
   "cell_type": "code",
   "execution_count": 1,
   "metadata": {},
   "outputs": [
    {
     "name": "stderr",
     "output_type": "stream",
     "text": [
      "<ipython-input-1-aaccf4cf045a>:13: DeprecationWarning: Numeric-style type codes are deprecated and will result in an error in the future.\n",
      "  refhist = np.histogram(refimage.astype('Float32'), bins=range(256))\n",
      "<ipython-input-1-aaccf4cf045a>:6: DeprecationWarning: Numeric-style type codes are deprecated and will result in an error in the future.\n",
      "  imghist = np.histogram(image.astype('Float32'), bins=range(256))\n"
     ]
    }
   ],
   "source": [
    "#here we will rescale all volumes so that the global maximum is at the same gray intensity across the whole set\n",
    "import matplotlib.pyplot as plt\n",
    "import imageio as io\n",
    "import numpy as np\n",
    "\n",
    "def rescale_4D(image, rescale_to_value):\n",
    "    imghist = np.histogram(image.astype('Float32'), bins=range(256))\n",
    "    diff = rescale_to_value - imghist[0].tolist().index(max(imghist[0]))                        \n",
    "    resampled = image + diff\n",
    "    return resampled;\n",
    "\n",
    "Ref_vol = io.volread('E:/paper_2/Volumes_Bare/TiffSaver-tomo_B0X.tif')\n",
    "refimage = Ref_vol.reshape(-1)\n",
    "refhist = np.histogram(refimage.astype('Float32'), bins=range(256))\n",
    "rescale_to_value = refhist[0].tolist().index(max(refhist[0]))\n",
    "\n",
    "for x in range(1, 17):\n",
    "    image = io.volread('E:/paper_2/Volumes_Bare/Registered_vols/TiffSaver-tomo_B%d_a.tif'%(x))\n",
    "    resampled = rescale_4D(image, rescale_to_value)\n",
    "    io.volwrite('E:/paper_2/Volumes_Bare/Registered_vols/TiffSaver-tomo_B%d_a.tif'%(x), resampled, format='tiff')\n"
   ]
  },
  {
   "cell_type": "code",
   "execution_count": null,
   "metadata": {},
   "outputs": [],
   "source": []
  }
 ],
 "metadata": {
  "kernelspec": {
   "display_name": "Python 3",
   "language": "python",
   "name": "python3"
  },
  "language_info": {
   "codemirror_mode": {
    "name": "ipython",
    "version": 3
   },
   "file_extension": ".py",
   "mimetype": "text/x-python",
   "name": "python",
   "nbconvert_exporter": "python",
   "pygments_lexer": "ipython3",
   "version": "3.8.5"
  }
 },
 "nbformat": 4,
 "nbformat_minor": 4
}
